{
 "cells": [
  {
   "cell_type": "markdown",
   "id": "8febd1dd-74bd-44de-a5e4-1604a91d3c16",
   "metadata": {},
   "source": [
    "![Variedades americanas](paper.jpg)"
   ]
  },
  {
   "cell_type": "markdown",
   "id": "13ac633d-7057-4943-8e9c-7b7eb24a9477",
   "metadata": {},
   "source": [
    "# Genómica poblacional del Mango en América"
   ]
  },
  {
   "cell_type": "markdown",
   "id": "c454fc91-dd92-447c-8813-6328a4121cf3",
   "metadata": {},
   "source": [
    "### Prácticas de Bioinformática para el curso de Genómica de la Conservación 2022 de Ciencias Agrogenómicas\n",
    "### Asistente: Eddy Mendoza (eddyjmeg@gmail.com)"
   ]
  },
  {
   "cell_type": "markdown",
   "id": "7415a918-3628-431e-a2d8-fb91e3638983",
   "metadata": {},
   "source": [
    "### Tu nombre:"
   ]
  },
  {
   "cell_type": "markdown",
   "id": "d7f71274-5915-49d8-afc0-a4d2f3c31958",
   "metadata": {},
   "source": [
    "En esta segunda parte, exploraremos la variación genética y la estructura de las poblaciones usando los SNPs que llamamos anteriormente. \n",
    "\n",
    "Como habrás visto, la carpeta de salida tiene varios archivos. Nosotros usaremos <snps.vcf> y <.plink>"
   ]
  },
  {
   "cell_type": "code",
   "execution_count": null,
   "id": "4976cc56-e3c0-4b7d-977f-586da4ff19d8",
   "metadata": {},
   "outputs": [],
   "source": []
  }
 ],
 "metadata": {
  "kernelspec": {
   "display_name": "Python 3 (ipykernel)",
   "language": "python",
   "name": "python3"
  },
  "language_info": {
   "codemirror_mode": {
    "name": "ipython",
    "version": 3
   },
   "file_extension": ".py",
   "mimetype": "text/x-python",
   "name": "python",
   "nbconvert_exporter": "python",
   "pygments_lexer": "ipython3",
   "version": "3.9.7"
  }
 },
 "nbformat": 4,
 "nbformat_minor": 5
}
