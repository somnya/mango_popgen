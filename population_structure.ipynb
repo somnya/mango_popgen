{
 "cells": [
  {
   "cell_type": "markdown",
   "id": "8febd1dd-74bd-44de-a5e4-1604a91d3c16",
   "metadata": {},
   "source": [
    "![Variedades americanas](paper.jpg)"
   ]
  },
  {
   "cell_type": "markdown",
   "id": "13ac633d-7057-4943-8e9c-7b7eb24a9477",
   "metadata": {},
   "source": [
    "# Genómica poblacional del Mango en América"
   ]
  },
  {
   "cell_type": "markdown",
   "id": "c454fc91-dd92-447c-8813-6328a4121cf3",
   "metadata": {},
   "source": [
    "### Prácticas de Bioinformática para el curso de Genómica de la Conservación 2022 de Ciencias Agrogenómicas\n",
    "### Asistente: Eddy Mendoza (eddyjmeg@gmail.com)"
   ]
  },
  {
   "cell_type": "markdown",
   "id": "7415a918-3628-431e-a2d8-fb91e3638983",
   "metadata": {},
   "source": [
    "### Tu nombre:"
   ]
  },
  {
   "cell_type": "markdown",
   "id": "d7f71274-5915-49d8-afc0-a4d2f3c31958",
   "metadata": {},
   "source": [
    "En esta segunda parte, exploraremos la variación genética y la estructura de las poblaciones usando los SNPs que llamamos anteriormente. \n",
    "\n",
    "Como habrás visto, la carpeta de salida tiene varios archivos. Nosotros usaremos <snps.vcf> y <.plink>\n",
    "\n",
    "El software que usaremos en esta ocasión: \n",
    "\n",
    "    conda install -c bioconda plink\n",
    "    conda install -c bioconda admixture"
   ]
  },
  {
   "cell_type": "markdown",
   "id": "952887ab-0c88-423e-84ae-e5d6085d6202",
   "metadata": {},
   "source": [
    "### Análisis de componentes principales"
   ]
  },
  {
   "cell_type": "code",
   "execution_count": 87,
   "id": "4976cc56-e3c0-4b7d-977f-586da4ff19d8",
   "metadata": {},
   "outputs": [
    {
     "name": "stdout",
     "output_type": "stream",
     "text": [
      "PLINK v1.90b6.21 64-bit (19 Oct 2020)          www.cog-genomics.org/plink/1.9/\n",
      "(C) 2005-2020 Shaun Purcell, Christopher Chang   GNU General Public License v3\n",
      "Logging to linked.log.\n",
      "Options in effect:\n",
      "  --allow-extra-chr\n",
      "  --indep-pairwise 50 10 0.1\n",
      "  --out linked\n",
      "  --vcf snps.vcf\n",
      "\n",
      "7101 MB RAM detected; reserving 3550 MB for main workspace.\n",
      "--vcf: linked-temporary.bed + linked-temporary.bim + linked-temporary.fam\n",
      "written.\n",
      "59 variants loaded from .bim file.\n",
      "37 people (0 males, 0 females, 37 ambiguous) loaded from .fam.\n",
      "Ambiguous sex IDs written to linked.nosex .\n",
      "Using 1 thread (no multithreaded calculations invoked).\n",
      "Before main variant filters, 37 founders and 0 nonfounders present.\n",
      "Calculating allele frequencies... 10111213141516171819202122232425262728293031323334353637383940414243444546474849505152535455565758596061626364656667686970717273747576777879808182838485868788899091929394959697989 done.\n",
      "Total genotyping rate is 0.893724.\n",
      "59 variants and 37 people pass filters and QC.\n",
      "Note: No phenotypes present.\n",
      "Pruned 0 variants from chromosome 27, leaving 1.\n",
      "Pruned 0 variants from chromosome 28, leaving 1.\n",
      "Pruned 1 variant from chromosome 29, leaving 1.\n",
      "Pruned 0 variants from chromosome 30, leaving 1.\n",
      "Pruned 0 variants from chromosome 31, leaving 1.\n",
      "Pruned 0 variants from chromosome 32, leaving 1.\n",
      "Pruned 0 variants from chromosome 33, leaving 1.\n",
      "Pruned 2 variants from chromosome 34, leaving 1.\n",
      "Pruned 0 variants from chromosome 35, leaving 1.\n",
      "Pruned 1 variant from chromosome 36, leaving 1.\n",
      "Pruned 0 variants from chromosome 37, leaving 1.\n",
      "Pruned 0 variants from chromosome 38, leaving 1.\n",
      "Pruned 0 variants from chromosome 39, leaving 1.\n",
      "Pruned 1 variant from chromosome 40, leaving 1.\n",
      "Pruned 0 variants from chromosome 41, leaving 1.\n",
      "Pruned 1 variant from chromosome 42, leaving 1.\n",
      "Pruned 1 variant from chromosome 43, leaving 1.\n",
      "Pruned 0 variants from chromosome 44, leaving 1.\n",
      "Pruned 1 variant from chromosome 45, leaving 1.\n",
      "Pruned 0 variants from chromosome 46, leaving 1.\n",
      "Pruned 1 variant from chromosome 47, leaving 1.\n",
      "Pruned 0 variants from chromosome 48, leaving 1.\n",
      "Pruned 0 variants from chromosome 49, leaving 1.\n",
      "Pruned 0 variants from chromosome 50, leaving 1.\n",
      "Pruned 0 variants from chromosome 51, leaving 1.\n",
      "Pruned 0 variants from chromosome 52, leaving 1.\n",
      "Pruned 0 variants from chromosome 53, leaving 1.\n",
      "Pruned 0 variants from chromosome 54, leaving 1.\n",
      "Pruned 2 variants from chromosome 55, leaving 1.\n",
      "Pruned 2 variants from chromosome 56, leaving 1.\n",
      "Pruned 0 variants from chromosome 57, leaving 1.\n",
      "Pruned 0 variants from chromosome 58, leaving 1.\n",
      "Pruned 3 variants from chromosome 59, leaving 1.\n",
      "Pruned 0 variants from chromosome 60, leaving 1.\n",
      "Pruned 1 variant from chromosome 61, leaving 1.\n",
      "Pruned 0 variants from chromosome 62, leaving 1.\n",
      "Pruned 0 variants from chromosome 63, leaving 1.\n",
      "Pruned 0 variants from chromosome 64, leaving 1.\n",
      "Pruned 0 variants from chromosome 65, leaving 1.\n",
      "Pruned 0 variants from chromosome 66, leaving 1.\n",
      "Pruned 0 variants from chromosome 67, leaving 1.\n",
      "Pruned 0 variants from chromosome 68, leaving 1.\n",
      "Pruning complete.  17 of 59 variants removed.\n",
      "Marker lists written to linked.prune.in and linked.prune.out .\n",
      "___________________________________________\n",
      "PLINK v1.90b6.21 64-bit (19 Oct 2020)          www.cog-genomics.org/plink/1.9/\n",
      "(C) 2005-2020 Shaun Purcell, Christopher Chang   GNU General Public License v3\n",
      "Logging to pruned.log.\n",
      "Options in effect:\n",
      "  --allow-extra-chr\n",
      "  --extract linked.prune.in\n",
      "  --make-bed\n",
      "  --mind\n",
      "  --out pruned\n",
      "  --vcf snps.vcf\n",
      "\n",
      "7101 MB RAM detected; reserving 3550 MB for main workspace.\n",
      "--vcf: pruned-temporary.bed + pruned-temporary.bim + pruned-temporary.fam\n",
      "written.\n",
      "59 variants loaded from .bim file.\n",
      "37 people (0 males, 0 females, 37 ambiguous) loaded from .fam.\n",
      "Ambiguous sex IDs written to pruned.nosex .\n",
      "--extract: 42 variants remaining.\n",
      "6 people removed due to missing genotype data (--mind).\n",
      "IDs written to pruned.irem .\n",
      "Using 1 thread (no multithreaded calculations invoked).\n",
      "Before main variant filters, 31 founders and 0 nonfounders present.\n",
      "Calculating allele frequencies... 10111213141516171819202122232425262728293031323334353637383940414243444546474849505152535455565758596061626364656667686970717273747576777879808182838485868788899091929394959697989 done.\n",
      "Total genotyping rate in remaining samples is 0.963134.\n",
      "42 variants and 31 people pass filters and QC.\n",
      "Note: No phenotypes present.\n",
      "--make-bed to pruned.bed + pruned.bim + pruned.fam ... 101112131415161718192021222324252627282930313233343536373839404142434445464748495051525354555657585960616263646566676869707172737475767778798081828384858687888990919293949596979899done.\n"
     ]
    }
   ],
   "source": [
    "# Primero necesitamos eliminar los SNPs que se encuentran ligados, estos nos pueden meter ruido.\n",
    "! sed 's/Vanilla_planifolia_SAGARPA_Sc//g' populations.snps.vcf > snps.vcf\n",
    "#Este comando los busca y los manda a otro archivo\n",
    "! plink --vcf snps.vcf --allow-extra-chr --indep-pairwise 50 10 0.1 --out linked\n",
    "\n",
    "# Ahora tomaremos el set original y le restaremos los SNPs ligados\n",
    "! echo \"___________________________________________\"\n",
    "! plink --vcf snps.vcf --allow-extra-chr --extract linked.prune.in --make-bed --mind --out pruned"
   ]
  },
  {
   "cell_type": "code",
   "execution_count": 52,
   "id": "4cbe802c-1336-411a-b811-460d6c8fa034",
   "metadata": {},
   "outputs": [
    {
     "name": "stdout",
     "output_type": "stream",
     "text": [
      "PLINK v1.90b6.21 64-bit (19 Oct 2020)          www.cog-genomics.org/plink/1.9/\n",
      "(C) 2005-2020 Shaun Purcell, Christopher Chang   GNU General Public License v3\n",
      "Logging to pca.log.\n",
      "Options in effect:\n",
      "  --allow-extra-chr\n",
      "  --bfile pruned\n",
      "  --out pca\n",
      "  --pca\n",
      "\n",
      "7101 MB RAM detected; reserving 3550 MB for main workspace.\n",
      "42 variants loaded from .bim file.\n",
      "31 people (0 males, 0 females, 31 ambiguous) loaded from .fam.\n",
      "Ambiguous sex IDs written to pca.nosex .\n",
      "Using up to 8 threads (change this with --threads).\n",
      "Before main variant filters, 31 founders and 0 nonfounders present.\n",
      "Calculating allele frequencies... 10111213141516171819202122232425262728293031323334353637383940414243444546474849505152535455565758596061626364656667686970717273747576777879808182838485868788899091929394959697989 done.\n",
      "Total genotyping rate is 0.963134.\n",
      "42 variants and 31 people pass filters and QC.\n",
      "Note: No phenotypes present.\n",
      "Relationship matrix calculation complete.\n",
      "--pca: Results saved to pca.eigenval and pca.eigenvec .\n"
     ]
    }
   ],
   "source": [
    "# Ahora le pediremos a PLINK que haga por nosotros un PCA\n",
    "! plink --bfile pruned --allow-extra-chr --pca --out pca"
   ]
  },
  {
   "cell_type": "markdown",
   "id": "85bf60cb-1889-4f40-993b-754bf726c521",
   "metadata": {},
   "source": [
    "### ADMIXTURE"
   ]
  },
  {
   "cell_type": "code",
   "execution_count": 84,
   "id": "0d180937-8769-4076-bcd5-e44979d00ee5",
   "metadata": {},
   "outputs": [
    {
     "name": "stdout",
     "output_type": "stream",
     "text": [
      "PLINK v1.90b6.21 64-bit (19 Oct 2020)          www.cog-genomics.org/plink/1.9/\n",
      "(C) 2005-2020 Shaun Purcell, Christopher Chang   GNU General Public License v3\n",
      "Logging to plink.log.\n",
      "Options in effect:\n",
      "  --allow-extra-chr\n",
      "  --file snps\n",
      "  --mind\n",
      "  --recode 12\n",
      "\n",
      "7101 MB RAM detected; reserving 3550 MB for main workspace.\n",
      ".ped scan complete (for binary autoconversion).34548515456596264677072757881838689919497100%\n",
      "Performing single-pass .bed write (59 variants, 37 people).\n",
      "--file: plink-temporary.bed + plink-temporary.bim + plink-temporary.fam546474849505152535455565758596061626364656667686970717273747576777879808182838485868788899091929394%\n",
      "written.\n",
      "59 variants loaded from .bim file.\n",
      "37 people (0 males, 0 females, 37 ambiguous) loaded from .fam.\n",
      "Ambiguous sex IDs written to plink.nosex .\n",
      "6 people removed due to missing genotype data (--mind).\n",
      "IDs written to plink.irem .\n",
      "Using 1 thread (no multithreaded calculations invoked).\n",
      "Before main variant filters, 31 founders and 0 nonfounders present.\n",
      "Calculating allele frequencies... 10111213141516171819202122232425262728293031323334353637383940414243444546474849505152535455565758596061626364656667686970717273747576777879808182838485868788899091929394959697989 done.\n",
      "Total genotyping rate in remaining samples is 0.965008.\n",
      "59 variants and 31 people pass filters and QC.\n",
      "Note: No phenotypes present.\n",
      "--recode ped to plink.ped + plink.map ... 101112131415161718192021222324252627282930313233343536373839404142434445464748495051525354555657585960616263646566676869707172737475767778798081828384858687888990919293949596979899done.\n"
     ]
    }
   ],
   "source": [
    "#! plink --bfile pruned --allow-extra-chr --recode 12 -out admix\n",
    "#! awk '{$1=\"0\";print $0}' admix.map | sed -E 's/\\s/\\t/g' > snps.map\n",
    "#! sed -E 's/\\s/\\t/g' admix.ped > snps.ped\n",
    "! tail -n 37 populations.plink.ped | sed 's/ /_/g' > snps.ped\n",
    "! tail -n 59 populations.plink.map | awk '{$1=\"0\";print $0}' | sed -E 's/\\s/\\t/g' > snps.map\n",
    "! plink --file snps --recode 12 --allow-extra-chr --mind \n",
    "#! sed -E 's/\\s/\\t/g' plink.ped > admix.ped\n",
    "#! mv plink.map admix.map\n",
    "#! rm snps* plink*\n",
    "\n",
    "#plink --file vani_4 --recode 12 --out vanionetwo.ped --allow-extra-chr --mind"
   ]
  },
  {
   "cell_type": "code",
   "execution_count": 61,
   "id": "6e7b9120-4937-4449-9854-85f140092a21",
   "metadata": {},
   "outputs": [],
   "source": [
    "!"
   ]
  }
 ],
 "metadata": {
  "kernelspec": {
   "display_name": "Python 3 (ipykernel)",
   "language": "python",
   "name": "python3"
  },
  "language_info": {
   "codemirror_mode": {
    "name": "ipython",
    "version": 3
   },
   "file_extension": ".py",
   "mimetype": "text/x-python",
   "name": "python",
   "nbconvert_exporter": "python",
   "pygments_lexer": "ipython3",
   "version": "3.9.7"
  }
 },
 "nbformat": 4,
 "nbformat_minor": 5
}
