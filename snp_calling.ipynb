{
 "cells": [
  {
   "cell_type": "markdown",
   "id": "8febd1dd-74bd-44de-a5e4-1604a91d3c16",
   "metadata": {},
   "source": [
    "![Variedades americanas](paper.jpg)"
   ]
  },
  {
   "cell_type": "markdown",
   "id": "13ac633d-7057-4943-8e9c-7b7eb24a9477",
   "metadata": {},
   "source": [
    "# Genómica poblacional del Mango en América"
   ]
  },
  {
   "cell_type": "markdown",
   "id": "c454fc91-dd92-447c-8813-6328a4121cf3",
   "metadata": {},
   "source": [
    "### Prácticas de Bioinformática para el curso de Genómica de la Conservación 2022 de Ciencias Agrogenómicas\n",
    "### Asistente: Eddy Mendoza (eddyjmeg@gmail.com)"
   ]
  },
  {
   "cell_type": "markdown",
   "id": "7415a918-3628-431e-a2d8-fb91e3638983",
   "metadata": {},
   "source": [
    "### Tu nombre:"
   ]
  },
  {
   "cell_type": "markdown",
   "id": "4bf953df-9274-4351-89ca-f7dee78e0940",
   "metadata": {},
   "source": [
    "El objetivo de esta práctica es que se familiaricen con los métodos bioinformáticos que se utilizan en los proyectos de investigación sobre la genómica de poblaciones de plantas. \n",
    "Para esto, vamos a recrear el [estudio de genómica poblacional del mango](https://doi.org/10.1111/nph.15731). Para fines prácticos, solamente usaremos las poblaciones de México, el Caribe y Sudamérica. Los [metadatos](metadata_sra.tsv) están adjuntos a esta carpeta. \n",
    "Usando bash, responde: ¿cuántos individuos hay en cada población? ¿cuántos individuos hay en total?"
   ]
  },
  {
   "cell_type": "code",
   "execution_count": 18,
   "id": "0557de08-fb1e-4b25-8ceb-d1278f0c3d21",
   "metadata": {},
   "outputs": [
    {
     "name": "stdout",
     "output_type": "stream",
     "text": [
      "el mensaje del trabajo se imprime bajo el cuadro de código\n"
     ]
    }
   ],
   "source": [
    "# Nota: recuerda que en una libreta de jupyter, ponemos un \"!\" al principio cuando queremos correr un comando de bash\n",
    "# ejemplo:\n",
    "! echo \"el mensaje del trabajo se imprime bajo el cuadro de código\"\n",
    "# presiona CTRL+ENTER para correr un chunk"
   ]
  },
  {
   "cell_type": "code",
   "execution_count": null,
   "id": "d98c07ee-c420-435e-bb36-06bd931d027e",
   "metadata": {},
   "outputs": [],
   "source": [
    "# Aquí agrega tu respuesta:\n"
   ]
  },
  {
   "cell_type": "markdown",
   "id": "6762b3d8-1ad6-4074-9e17-b8115c966fa9",
   "metadata": {},
   "source": [
    "### Vamos a instalar el software que necesitaremos"
   ]
  },
  {
   "cell_type": "markdown",
   "id": "4514200d-3b89-4c77-a24c-1e58c83f85f2",
   "metadata": {},
   "source": [
    "No te preocupes, ¡nada se instalará en tu computadora! \n",
    "\n",
    "Esta es una libreta interactiva, es decir, todo quedará **temporalmente** almacenado en la nube.\n",
    "\n",
    "Si cierras esta pestaña en tu navegador, la cesión virtual desaparecerá y se restaurá el directorio a su estado original del repositorio. Ten mucho cuidado para que no pierdas tu trabajo (y tiempo).\n",
    "\n",
    "Porfavor no edites el repositorio, si quieres guardar algo, descárgalo directamente a tu computadora :)\n",
    "\n",
    "**Es necesario que hagas la instalación directamente en la terminal de jupyter** (si lo haces en la libreta no podrás responder las solicitudes de permisos). Puedes abrir una terminal en el botón azul con un \"+\" en la parte superior izquierda de esta página. Copia los siguientes comandos y córrelos en terminal:\n",
    "\n",
    "    conda install -c bioconda stacks\n",
    "    conda install -c bioconda bwa \n",
    "    conda install -c bioconda sra-tool"
   ]
  },
  {
   "cell_type": "markdown",
   "id": "1c8a93a6-5b36-48d3-a283-022272b88a30",
   "metadata": {},
   "source": [
    "### Ahora, crea un loop para descargar los archivos de sra usando SRATOOLKIT [(manual)](https://github.com/ncbi/sra-tools/wiki/08.-prefetch-and-fasterq-dump)"
   ]
  },
  {
   "cell_type": "markdown",
   "id": "1142be6b-40ee-470b-98ef-46766ca4bb3b",
   "metadata": {},
   "source": [
    "Pistas: \n",
    "\n",
    "    - Te recomiendo que crees un loop con nano y lo guardes como ejecutable (ej: \"descargar_fastq.sh\").\n",
    "    \n",
    "    - Las accesiones están en el archivo de metadatos.\n",
    "    \n",
    "    - Crea una carpeta única para estos archivos."
   ]
  },
  {
   "cell_type": "code",
   "execution_count": null,
   "id": "a505b2e4-14a2-47a1-b3cd-a94f507d90eb",
   "metadata": {},
   "outputs": [],
   "source": [
    "# Tu respuesta (además del comando, también imprime el script para que quede guardado en la libreta):\n",
    "# Nota: aproximadamente tardarás 30 minutos descargando"
   ]
  },
  {
   "cell_type": "markdown",
   "id": "80ba3c69-266e-4287-a8e1-5f871fa2140a",
   "metadata": {},
   "source": [
    "### Verifica que todas las accesiones se hayan descargado"
   ]
  },
  {
   "cell_type": "code",
   "execution_count": null,
   "id": "66069b0a-505f-48f6-9795-7ffe9ff92cbe",
   "metadata": {},
   "outputs": [],
   "source": [
    "# Tu respuesta:\n"
   ]
  },
  {
   "cell_type": "markdown",
   "id": "885f70c4-2f69-41bc-9627-1deacefedee7",
   "metadata": {},
   "source": [
    "Según la parte de metodología del artículo, los datos ya fueron limpiados y pasado por de-multiplexing (te recomiendo investigar qué es esto en genómica de poblaciones), por lo que no haremos algún tipo de limpieza adicional. Revisa la metodología para mayor información.\n",
    "\n",
    "Lo que sí haremos diferente, es que usaremos [el genoma del mango](https://doi.org/10.1186/s12870-021-02858-1) para llamar los SNPs."
   ]
  },
  {
   "cell_type": "markdown",
   "id": "e4fd0b49-9eda-40bc-90c3-454da56d0a61",
   "metadata": {},
   "source": [
    "### Revisa el artículo del genoma. Los autores crearon un sitio público donde colocaron el ensamble y la anotación del genoma.\n",
    "#### 1. Descarga el genoma con wget\n",
    "#### 2. ¿Cuántos cromosomas tiene el genoma?"
   ]
  },
  {
   "cell_type": "code",
   "execution_count": null,
   "id": "bedd2dde-4837-47f1-9aeb-241183d2427b",
   "metadata": {},
   "outputs": [],
   "source": [
    "# Tu respuesta:\n"
   ]
  },
  {
   "cell_type": "markdown",
   "id": "1dde79b1-78f1-4930-b705-586cc5467bc2",
   "metadata": {},
   "source": [
    "### Ahora, vamos a alinear los reads al genoma. Crea un loop para alinear los reads con BWA [(manual)](http://bio-bwa.sourceforge.net/bwa.shtml). Luego usa SAMTOOLS [(manual)](http://www.htslib.org/doc/samtools.html) para convertir el SAM a BAM y ordénalo por coordenadas."
   ]
  },
  {
   "cell_type": "markdown",
   "id": "115133a9-d2a9-4682-b2c4-a9bbee6a2274",
   "metadata": {},
   "source": [
    "Pistas:\n",
    "\n",
    "    - No olvides indexar el genoma antes.\n",
    "\n",
    "    - Dentro del loop, haz un pipeline: alinear > convertir > ordenar. Así te evitas de archivos intermedios.\n",
    "    \n",
    "    - Además, para el siguiente paso, es necesario que cada archivo tenga la estructura ACCESSION.bam. Asegúrate de usar los nombres base de cada archivo. Es decir, no queremos un archivo llamado \"SRRNNNNN.fastq.bam.sortedbam\".\n",
    "    \n",
    "    - Crea una carpeta única para estos archivos."
   ]
  },
  {
   "cell_type": "code",
   "execution_count": 10,
   "id": "ead42ff8-cd72-4985-9e4c-cc847b602565",
   "metadata": {},
   "outputs": [],
   "source": [
    "# Tu respuesta (además del comando, también imprime el script para que quede guardado en la libreta):\n",
    "# Nota: Esto puede tardar unas 5 horas. Ten paciencia (y asegúrate que no se desconecte tu computadora).\n",
    "# Si quieres disminuir el número de muestras está bien. Pero, tendrás que acoplar los siguientes comandos.\n"
   ]
  },
  {
   "cell_type": "markdown",
   "id": "5d788eed-e1d8-4969-8f18-d9232e06ed7f",
   "metadata": {},
   "source": [
    "### Ya que tenemos los alineamientos listos, usaremos STACKS [(manual)](https://catchenlab.life.illinois.edu/stacks/manual/) para llamar los SNPS."
   ]
  },
  {
   "cell_type": "markdown",
   "id": "f885bcd1-3e8c-48fa-8262-6644b47cd0cf",
   "metadata": {},
   "source": [
    "Primero deberás creas un archivo llamado \"popmap\" [(guía)](https://catchenlab.life.illinois.edu/stacks/manual/#popmap) a partir del archivo de metadatos."
   ]
  },
  {
   "cell_type": "code",
   "execution_count": 3,
   "id": "805411b3-5567-476f-8426-1322b2f1d819",
   "metadata": {},
   "outputs": [],
   "source": [
    "# Tu respuesta (además del o los comandos, también imprime el archivo popmap):\n"
   ]
  },
  {
   "cell_type": "markdown",
   "id": "d40c4b31-51b4-4d84-ae4b-67ea6d872708",
   "metadata": {},
   "source": [
    "### Ahora crearemos los loci con la función [gstacks](https://catchenlab.life.illinois.edu/stacks/comp/gstacks.php) (la G es porque tenemos genoma de referencia al que alineamos los reads)."
   ]
  },
  {
   "cell_type": "code",
   "execution_count": 5,
   "id": "3d0327ae-8d05-4def-81cd-497012c14dd6",
   "metadata": {},
   "outputs": [],
   "source": [
    "# Tu respuesta:\n",
    "# Crea una carpeta para los resultados (res/)\n"
   ]
  },
  {
   "cell_type": "markdown",
   "id": "6488879a-0b33-43a7-86dd-85397b885c6f",
   "metadata": {},
   "source": [
    "### Una vez que hemos llamado los SNPs, calcularemos Fst, pi, HWE y formaremos otros cuantos archivos para análisis posteriores.\n",
    "### Esta vez te dejo el comando para que todxs tengamos los mismos datos. Sin embargo, te pido que revises el manual de [populations](https://catchenlab.life.illinois.edu/stacks/comp/populations.php) para que entiendas qué le estamos pidiendo al programa:"
   ]
  },
  {
   "cell_type": "code",
   "execution_count": null,
   "id": "1986029c-af4b-444d-bd6d-068bc1e73f3a",
   "metadata": {},
   "outputs": [],
   "source": [
    "! populations -P res/ -M popmap -r 0.8 --min-maf 0.1 --min-mac 2 --max-obs-het 0.75 --fst_correction 'p_value' --bootstrap --bootstrap-reps 1000 --vcf --plink --fstats --smooth --hwe\n",
    "# Quizá se ve enorme el comando, pero son pasos escenciales para tener SNPs de alta calidad. Usando otros programas el proceso es mucho más largo, esta es una gran ventaja de STACKS."
   ]
  },
  {
   "cell_type": "markdown",
   "id": "cc4ac0bc-d61e-4749-a2c9-7cdade8214c1",
   "metadata": {},
   "source": [
    "## ¡Listo! ＼(＾▽＾)／\n",
    "\n",
    "### En este punto ya tenemos lo necesario para realizar análisis de estructura poblacional. Descarga la libreta y súbela a classroom. "
   ]
  },
  {
   "cell_type": "markdown",
   "id": "602d00fa-a421-4818-8565-7a0c470eae66",
   "metadata": {},
   "source": [
    "### Si es que no lograste llegar hasta aquí, no te preocupes, la bioinformática puede ser muy estresante; lo importante es que veas el proceso general. La siguiente clase veremos qué salió mal. Sube tu libreta a classroom para que pueda ver los errores también. "
   ]
  }
 ],
 "metadata": {
  "kernelspec": {
   "display_name": "Python 3 (ipykernel)",
   "language": "python",
   "name": "python3"
  },
  "language_info": {
   "codemirror_mode": {
    "name": "ipython",
    "version": 3
   },
   "file_extension": ".py",
   "mimetype": "text/x-python",
   "name": "python",
   "nbconvert_exporter": "python",
   "pygments_lexer": "ipython3",
   "version": "3.9.7"
  }
 },
 "nbformat": 4,
 "nbformat_minor": 5
}
